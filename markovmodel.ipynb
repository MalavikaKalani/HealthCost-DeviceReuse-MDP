{
 "cells": [
  {
   "cell_type": "code",
   "execution_count": 67,
   "id": "750a4be9-0681-4e57-8a75-85eb511b63fe",
   "metadata": {},
   "outputs": [],
   "source": [
    "import numpy as np\n",
    "import pandas as pd \n",
    "import random\n",
    "import math\n",
    "import matplotlib.pyplot as plt\n",
    "from matplotlib.ticker import ScalarFormatter\n",
    "\n",
    "class MarkovModel:\n",
    "    def __init__(self, C_n, C_r, C_f, p_n, p_r):\n",
    "        self.C_n = C_n  \n",
    "        self.C_r = C_r  \n",
    "        self.C_f = C_f  \n",
    "        self.p_n = p_n  \n",
    "        self.p_r = p_r  \n",
    "        self.N = 2  \n",
    "        self.gamma = 0.97\n",
    "        self.epsilon = 1e-8\n",
    "\n",
    "    def value_iteration(self):\n",
    "        # Initialize value function for each state\n",
    "        V = np.zeros(self.N)\n",
    "\n",
    "        while True:\n",
    "            prev_V = np.copy(V)\n",
    "            delta = 0\n",
    "            for i in range(self.N):\n",
    "                v_i = V[i]\n",
    "                #calculating expected value\n",
    "                Q_values = [self.expected_value(i, action, V) for action in range(2)]\n",
    "                V[i] = min(Q_values)  \n",
    "                delta = max(delta, abs(v_i - V[i]))\n",
    "            if delta < self.epsilon:\n",
    "                break\n",
    "        return V\n",
    "\n",
    "    def expected_value(self, state, action, V):\n",
    "        #calculating expected value\n",
    "        #if in functional state, is just normal device cost\n",
    "        if state == 0:  \n",
    "            cost = self.C_n if action == 0 else self.C_r\n",
    "            p_failure = self.p_n if action == 0 else self.p_r\n",
    "            expected_value = cost + self.gamma * (p_failure * V[1] + (1 - p_failure) * V[0])\n",
    "        #if in non-functional state, need to add failure penalty cost\n",
    "        else:  \n",
    "            cost = self.C_n + self.C_f if action == 0 else self.C_r + self.C_f\n",
    "            p_failure = self.p_n if action == 0 else self.p_r\n",
    "            expected_value = cost + self.gamma * (p_failure * V[1] + (1 - p_failure) * V[0])\n",
    "        return expected_value\n",
    "\n",
    "#C_n, C_r, C_f, p_n, p_r"
   ]
  },
  {
   "cell_type": "code",
   "execution_count": 68,
   "id": "e97c6310-ddd5-4c8b-9e78-b5c944b76ed6",
   "metadata": {},
   "outputs": [
    {
     "name": "stdout",
     "output_type": "stream",
     "text": [
      "Optimal values: [   4002.33333301 1004002.33333302]\n",
      "STATE 0:\n",
      "Action new: Expected cost = 4002.360333019982\n",
      "Action reprocessed: Expected cost = 4002.3333330199816\n",
      "STATE 1:\n",
      "Action new: Expected cost = 1004002.36033302\n",
      "Action reprocessed: Expected cost = 1004002.33333302\n",
      "Optimal policy:,  ['reprocessed', 'new']\n"
     ]
    }
   ],
   "source": [
    "m2 = MarkovModel(120, 119.10, 1000000, 0.0000001, 0.000001)\n",
    "\n",
    "#value iteration\n",
    "values = m2.value_iteration()\n",
    "\n",
    "#PRINT STATEMENTS FOR TESTING & ANALYZING DATA\n",
    "print(\"Optimal values:\", values)\n",
    "\n",
    "#select the optimal policy based on values\n",
    "for state in range(2):\n",
    "    print(f\"STATE {state}:\")\n",
    "    for action in range(2):\n",
    "        action_name = \"new\" if action == 0 else \"reprocessed\"\n",
    "        expected_val = m2.expected_value(state, action, values)\n",
    "        print(f\"Action {action_name}: Expected cost = {expected_val}\")\n",
    "\n",
    "optimal_policy = ['new' if m2.expected_value(0, action, values) == min([m2.expected_value(0, a, values) for a in range(2)]) else 'reprocessed' for action in range(2)]\n",
    "\n",
    "print(\"Optimal policy:\"\", \",optimal_policy)"
   ]
  },
  {
   "cell_type": "code",
   "execution_count": 118,
   "id": "ec10fcd7-b6de-43d1-8a5d-5c6d4473c2a0",
   "metadata": {},
   "outputs": [],
   "source": [
    "## CHANGING C_N\n",
    "\n",
    "y_vals = []\n",
    "\n",
    "for c_n in range(110,130):\n",
    "    # print(c_n)\n",
    "    m2 = MarkovModel(c_n, 119.09, 1000000, 0.0000001, 0.000001)\n",
    "    values = m2.value_iteration()\n",
    "    # print(values)\n",
    "    # y_vals.append(values[0])\n",
    "    # print([m2.expected_value(0, action, values) for action in range(2)])\n",
    "    expected = [m2.expected_value(0, action, values) for action in range(2)]\n",
    "    y_vals.append(abs(expected[0]-expected[1]))\n",
    "    # print(\"Optimal policy:\"\", \",optimal_policy)\n",
    "    "
   ]
  },
  {
   "cell_type": "code",
   "execution_count": 135,
   "id": "7fec4029-1e1e-41a8-bc84-9472dc54e4e9",
   "metadata": {},
   "outputs": [
    {
     "data": {
      "image/png": "[encoded data removed]",
      "text/plain": [
       "<Figure size 432x288 with 1 Axes>"
      ]
     },
     "metadata": {
      "needs_background": "light"
     },
     "output_type": "display_data"
    }
   ],
   "source": [
    "x1 = list(range(110, 130))\n",
    "\n",
    "# Create a scatter plot\n",
    "plt.scatter(x1, y_vals, marker='o', color='blue')\n",
    "\n",
    "# Add labels and a title\n",
    "plt.xlabel('Cost of a New Device (C_n)')\n",
    "plt.ylabel('Absolute Difference in Expected Costs')\n",
    "# plt.title('Scatter Plot of c_n vs. Optimal Value')\n",
    "\n",
    "# Add a line to separate the regions\n",
    "plt.axvline(x=119.97, color='red', linestyle='--', label='Policy Change')\n",
    "\n",
    "# Add text annotations\n",
    "plt.text(115, max(y_vals) * 0.9, 'New Device', color='black', fontsize=10)\n",
    "plt.text(120.5, max(y_vals) * 0.9, 'Reprocessed Device', color='black', fontsize=10)\n",
    "\n",
    "\n",
    "# Show the plot\n",
    "# plt.grid(True)  # Add a grid (optional)\n",
    "plt.show()"
   ]
  },
  {
   "cell_type": "code",
   "execution_count": 136,
   "id": "5b608108-858f-418f-9643-93a72f3550f9",
   "metadata": {},
   "outputs": [
    {
     "name": "stdout",
     "output_type": "stream",
     "text": [
      "110.1\n",
      "111.1\n",
      "112.1\n",
      "113.1\n",
      "114.1\n",
      "115.1\n",
      "116.1\n",
      "117.1\n",
      "118.1\n",
      "119.1\n",
      "120.1\n",
      "121.1\n",
      "122.1\n",
      "123.1\n",
      "124.1\n",
      "125.1\n",
      "126.1\n",
      "127.1\n",
      "128.1\n",
      "129.1\n"
     ]
    },
    {
     "data": {
      "image/png": "[encoded data removed]",
      "text/plain": [
       "<Figure size 432x288 with 1 Axes>"
      ]
     },
     "metadata": {
      "needs_background": "light"
     },
     "output_type": "display_data"
    }
   ],
   "source": [
    "# CHANGING C_R \n",
    "y_vals = []\n",
    "\n",
    "for c_r in np.arange(110.10,130.10,1):\n",
    "    print(c_r)\n",
    "    m2 = MarkovModel(120, c_r, 1000000, 0.0000001, 0.000001)\n",
    "    values = m2.value_iteration()\n",
    "    # print(values)\n",
    "    # y_vals.append(values[0])\n",
    "    # print([m2.expected_value(0, action, values) for action in range(2)])\n",
    "    expected = [m2.expected_value(0, action, values) for action in range(2)]\n",
    "    y_vals.append(abs(expected[0]-expected[1]))\n",
    "    # print(\"Optimal policy:\"\", \",optimal_policy)\n",
    "    \n",
    "x1 = list(np.arange(110.10, 130.10, 1))\n",
    "\n",
    "# Create a scatter plot\n",
    "plt.scatter(x1, y_vals, marker='o', color='blue')\n",
    "\n",
    "# Add labels and a title\n",
    "plt.xlabel('Cost of a Reprocessed Device (C_r)')\n",
    "plt.ylabel('Absolute Difference in Expected Costs')\n",
    "# plt.title('Scatter Plot of c_n vs. Optimal Value')\n",
    "\n",
    "# Add a line to separate the regions\n",
    "plt.axvline(x= 119.13, color='red', linestyle='--', label='Policy Change')\n",
    "\n",
    "# Add text annotations\n",
    "plt.text(111.5, max(y_vals) * 0.9, 'Reprocessed Device', color='black', fontsize=10)\n",
    "plt.text(122, max(y_vals) * 0.9, 'New Device', color='black', fontsize=10)\n",
    "\n",
    "\n",
    "# Show the plot\n",
    "# plt.grid(True)  # Add a grid (optional)\n",
    "plt.show()"
   ]
  },
  {
   "cell_type": "code",
   "execution_count": 137,
   "id": "43dce941-bd3f-40a5-9745-cc6b84da6326",
   "metadata": {},
   "outputs": [
    {
     "name": "stdout",
     "output_type": "stream",
     "text": [
      "0\n",
      "100000\n",
      "200000\n",
      "300000\n",
      "400000\n",
      "500000\n",
      "600000\n",
      "700000\n",
      "800000\n",
      "900000\n",
      "1000000\n",
      "1100000\n",
      "1200000\n",
      "1300000\n",
      "1400000\n",
      "1500000\n",
      "1600000\n",
      "1700000\n",
      "1800000\n",
      "1900000\n"
     ]
    },
    {
     "data": {
      "image/png": "[encoded data removed]",
      "text/plain": [
       "<Figure size 432x288 with 1 Axes>"
      ]
     },
     "metadata": {
      "needs_background": "light"
     },
     "output_type": "display_data"
    }
   ],
   "source": [
    "# CHANGING C_F \n",
    "import numpy as np\n",
    "import matplotlib.pyplot as plt\n",
    "\n",
    "# Your code for generating y_vals\n",
    "y_vals = []\n",
    "\n",
    "for c_f in np.arange(0, 2000000, 100000):\n",
    "    print(c_f)\n",
    "    m2 = MarkovModel(120, 119.09, c_f, 0.0000001, 0.000001)\n",
    "    values = m2.value_iteration()\n",
    "    expected = [m2.expected_value(0, action, values) for action in range(2)]\n",
    "    y_vals.append(abs(expected[0] - expected[1]))\n",
    "\n",
    "x2 = list(np.arange(0, 2, 0.1))\n",
    "\n",
    "# Create a scatter plot\n",
    "plt.scatter(x2, y_vals, marker='o', color='blue')\n",
    "\n",
    "# Add labels and a title\n",
    "plt.xlabel('Penalty Cost for Device Failure (C_f) in Millions')\n",
    "plt.ylabel('Absolute Difference in Expected Costs')\n",
    "\n",
    "# Add a line to separate the regions\n",
    "plt.axvline(x=1.042382, color='red', linestyle='--', label='Policy Change')\n",
    "\n",
    "# Add text annotations\n",
    "plt.text(0.3, max(y_vals) * 0.9, 'Reprocessed Device', color='black', fontsize=10)\n",
    "plt.text(1.3, max(y_vals) * 0.9, 'New Device', color='black', fontsize=10)\n",
    "\n",
    "x_ticks = list(np.arange(0,2,0.1))\n",
    "plt.xticks(x_ticks, rotation=45)\n",
    "# plt.gca().xaxis.set_major_formatter(ScalarFormatter(useMathText=False))\n",
    "\n",
    "# Show the plot\n",
    "plt.show()\n"
   ]
  },
  {
   "cell_type": "code",
   "execution_count": 139,
   "id": "3cb1cbca-e361-41fd-ba1f-d33fa01ccc1c",
   "metadata": {},
   "outputs": [
    {
     "name": "stdout",
     "output_type": "stream",
     "text": [
      "1e-08\n",
      "1.55e-08\n",
      "2.1e-08\n",
      "2.65e-08\n",
      "3.1999999999999995e-08\n",
      "3.75e-08\n",
      "4.3e-08\n",
      "4.849999999999999e-08\n",
      "5.3999999999999994e-08\n",
      "5.95e-08\n",
      "6.5e-08\n",
      "7.049999999999999e-08\n",
      "7.599999999999999e-08\n",
      "8.15e-08\n",
      "8.699999999999998e-08\n",
      "9.249999999999999e-08\n",
      "9.799999999999999e-08\n",
      "1.035e-07\n",
      "1.09e-07\n",
      "1.1449999999999999e-07\n"
     ]
    },
    {
     "data": {
      "image/png": "[encoded data removed]",
      "text/plain": [
       "<Figure size 432x288 with 1 Axes>"
      ]
     },
     "metadata": {
      "needs_background": "light"
     },
     "output_type": "display_data"
    }
   ],
   "source": [
    "# CHANGING P_n\n",
    "y_vals = []\n",
    "\n",
    "for p_n in np.arange(0.00000001, 0.00000012, 0.0000000055):\n",
    "    print(p_n)\n",
    "    m2 = MarkovModel(120, 119.09, 1000000, p_n, 0.000001)\n",
    "    values = m2.value_iteration()\n",
    "    expected = [m2.expected_value(0, action, values) for action in range(2)]\n",
    "    y_vals.append(abs(expected[0] - expected[1]))\n",
    "\n",
    "x2 = np.arange(0.00000001, 0.00000012, 0.0000000055)\n",
    "\n",
    "# Create a scatter plot\n",
    "plt.scatter(x2, y_vals, marker='o', color='blue')\n",
    "\n",
    "# Add labels and a title\n",
    "plt.xlabel('Probability of New Device Failing (P_n)')\n",
    "plt.ylabel('Absolute Difference in Expected Costs')\n",
    "\n",
    "# Add a line to separate the regions\n",
    "plt.axvline(x=0.618*(10**(-7)), color='red', linestyle='--', label='Policy Change')\n",
    "\n",
    "# Add text annotations\n",
    "plt.text(0.2*(10**(-7)), max(y_vals) * 0.9, 'New Device', color='black', fontsize=10)\n",
    "plt.text(0.65*(10**(-7)), max(y_vals) * 0.9, 'Reprocessed Device', color='black', fontsize=10)\n",
    "\n",
    "# Show the plot\n",
    "plt.show()"
   ]
  },
  {
   "cell_type": "code",
   "execution_count": 96,
   "id": "7f27102a-d8bd-4997-a2f7-893aa77ea2c5",
   "metadata": {},
   "outputs": [
    {
     "name": "stdout",
     "output_type": "stream",
     "text": [
      "5.5e-09\n"
     ]
    }
   ],
   "source": [
    "start_value = 0.00000001\n",
    "end_value = 0.00000012\n",
    "num_points = 20\n",
    "print((end_value-start_value)/20)"
   ]
  },
  {
   "cell_type": "code",
   "execution_count": 141,
   "id": "7db4f3fb-0326-40f1-93fd-392dd45b100d",
   "metadata": {},
   "outputs": [
    {
     "name": "stdout",
     "output_type": "stream",
     "text": [
      "1.1449999999999999e-07\n",
      "1.1449999999999999e-07\n",
      "1.1449999999999999e-07\n",
      "1.1449999999999999e-07\n",
      "1.1449999999999999e-07\n",
      "1.1449999999999999e-07\n",
      "1.1449999999999999e-07\n",
      "1.1449999999999999e-07\n",
      "1.1449999999999999e-07\n",
      "1.1449999999999999e-07\n",
      "1.1449999999999999e-07\n",
      "1.1449999999999999e-07\n",
      "1.1449999999999999e-07\n",
      "1.1449999999999999e-07\n",
      "1.1449999999999999e-07\n",
      "1.1449999999999999e-07\n",
      "1.1449999999999999e-07\n",
      "1.1449999999999999e-07\n",
      "1.1449999999999999e-07\n",
      "1.1449999999999999e-07\n"
     ]
    },
    {
     "data": {
      "image/png": "[encoded data removed]",
      "text/plain": [
       "<Figure size 432x288 with 1 Axes>"
      ]
     },
     "metadata": {
      "needs_background": "light"
     },
     "output_type": "display_data"
    }
   ],
   "source": [
    "# CHANGING P_r\n",
    "y_vals = []\n",
    "\n",
    "for p_r in np.arange(0.00000014,0.00000204, 9.5e-08):\n",
    "    print(p_n)\n",
    "    m2 = MarkovModel(120, 119.09, 1000000, 0.0000001, p_r)\n",
    "    values = m2.value_iteration()\n",
    "    expected = [m2.expected_value(0, action, values) for action in range(2)]\n",
    "    y_vals.append(abs(expected[0] - expected[1]))\n",
    "\n",
    "x2 = np.arange(0.00000014,0.00000204, 9.5e-08)\n",
    "\n",
    "# Create a scatter plot\n",
    "plt.scatter(x2, y_vals, marker='o', color='blue')\n",
    "\n",
    "# Add labels and a title\n",
    "plt.xlabel('Probability of Reprocessed Device Failing (P_r)')\n",
    "plt.ylabel('Absolute Difference in Expected Costs')\n",
    "\n",
    "# Add a line to separate the regions\n",
    "plt.axvline(x=0.00000104, color='red', linestyle='--', label='Policy Change')\n",
    "\n",
    "# Add text annotations\n",
    "plt.text(0.4*(10**(-6)), max(y_vals) * 0.9, 'Reprocessed Device', color='black', fontsize=10)\n",
    "plt.text(1.25*(10**(-6)),max(y_vals) * 0.9, 'New Device', color='black', fontsize=10)\n",
    "\n",
    "# Show the plot\n",
    "plt.show()"
   ]
  },
  {
   "cell_type": "code",
   "execution_count": 115,
   "id": "d0cf4711-286e-4cce-9c8b-705ce468abe2",
   "metadata": {},
   "outputs": [
    {
     "name": "stdout",
     "output_type": "stream",
     "text": [
      "9.5e-08\n"
     ]
    }
   ],
   "source": [
    "start_value = 0.00000014\n",
    "end_value = 0.00000204\n",
    "num_points = 20\n",
    "print((end_value-start_value)/20)"
   ]
  },
  {
   "cell_type": "code",
   "execution_count": 114,
   "id": "87fcd6e0-f3b3-4edf-8ac1-63441b173c43",
   "metadata": {},
   "outputs": [
    {
     "name": "stdout",
     "output_type": "stream",
     "text": [
      "[1.40e-07 2.40e-07 3.40e-07 4.40e-07 5.40e-07 6.40e-07 7.40e-07 8.40e-07\n",
      " 9.40e-07 1.04e-06 1.14e-06 1.24e-06 1.34e-06 1.44e-06 1.54e-06 1.64e-06\n",
      " 1.74e-06 1.84e-06 1.94e-06 2.04e-06]\n"
     ]
    }
   ],
   "source": [
    "center_value = 0.00000104\n",
    "step_size = 0.0000001\n",
    "num_values = 20\n",
    "\n",
    "values = np.linspace(center_value - (step_size * 9), center_value + (step_size * 10), num_values)\n",
    "print(values)\n"
   ]
  },
  {
   "cell_type": "code",
   "execution_count": null,
   "id": "b81b42dd-09cb-46ab-a3a1-9203b0f49251",
   "metadata": {},
   "outputs": [],
   "source": []
  }
 ],
 "metadata": {
  "kernelspec": {
   "display_name": "Python 3.8",
   "language": "python",
   "name": "python3"
  },
  "language_info": {
   "codemirror_mode": {
    "name": "ipython",
    "version": 3
   },
   "file_extension": ".py",
   "mimetype": "text/x-python",
   "name": "python",
   "nbconvert_exporter": "python",
   "pygments_lexer": "ipython3",
   "version": "3.8.6"
  }
 },
 "nbformat": 4,
 "nbformat_minor": 5
}
